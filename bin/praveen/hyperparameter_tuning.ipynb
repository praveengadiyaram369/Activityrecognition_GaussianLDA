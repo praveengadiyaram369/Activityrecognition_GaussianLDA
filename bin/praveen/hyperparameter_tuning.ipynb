{
  "nbformat": 4,
  "nbformat_minor": 0,
  "metadata": {
    "colab": {
      "name": "hyperparameter_tuning.ipynb",
      "provenance": []
    },
    "kernelspec": {
      "display_name": "Python 3",
      "name": "python3"
    },
    "language_info": {
      "name": "python"
    }
  },
  "cells": [
    {
      "cell_type": "code",
      "metadata": {
        "colab": {
          "base_uri": "https://localhost:8080/"
        },
        "id": "OihpQT_ejBvg",
        "outputId": "9b412599-d0a8-48d4-d681-d1c613abc906"
      },
      "source": [
        "from google.colab import drive\n",
        "drive.mount('/content/drive')"
      ],
      "execution_count": 2,
      "outputs": [
        {
          "output_type": "stream",
          "text": [
            "Mounted at /content/drive\n"
          ],
          "name": "stdout"
        }
      ]
    },
    {
      "cell_type": "code",
      "metadata": {
        "id": "DV0qsDXwgsNs"
      },
      "source": [
        "import numpy as np\n",
        "from sklearn.preprocessing import Normalizer\n",
        "from sklearn import svm, metrics\n",
        "from sklearn.ensemble import RandomForestClassifier"
      ],
      "execution_count": 3,
      "outputs": []
    },
    {
      "cell_type": "code",
      "metadata": {
        "id": "ZvX3hHk_VlIk"
      },
      "source": [
        "from hyperopt import hp, fmin, tpe, Trials, STATUS_OK\n",
        "from hyperopt.pyll.base import scope\n",
        "from sklearn.metrics import make_scorer, accuracy_score, precision_score, recall_score, f1_score\n",
        "from sklearn.model_selection import cross_val_score, StratifiedKFold"
      ],
      "execution_count": 4,
      "outputs": []
    },
    {
      "cell_type": "code",
      "metadata": {
        "id": "aE7B8egdYClT"
      },
      "source": [
        "def printbest_model(param_space):\n",
        "    \n",
        "    hypopt_trials = Trials()\n",
        "    best_params = fmin(fn=objective, space=param_space, algo=tpe.suggest, max_evals=15, trials= hypopt_trials)\n",
        "    \n",
        "    print(best_params)\n",
        "    print(hypopt_trials.best_trial['result']['loss'])\n",
        "    \n",
        "    return hypopt_trials.results[np.argmin([r['loss'] for r in hypopt_trials.results])]['model']"
      ],
      "execution_count": 5,
      "outputs": []
    },
    {
      "cell_type": "code",
      "metadata": {
        "id": "UbdMxakiYJpS"
      },
      "source": [
        "def objective(params):\n",
        "    \n",
        "    model = RandomForestClassifier(**params, n_jobs=-1, random_state=123)\n",
        "    acc = cross_val_score(model, X_train, y_train, cv=5).mean()\n",
        "    return {'loss': -acc, 'status': STATUS_OK, 'model': model}"
      ],
      "execution_count": 6,
      "outputs": []
    },
    {
      "cell_type": "code",
      "metadata": {
        "id": "W2-SQ2zoih7o"
      },
      "source": [
        "def get_f1_score(X_train, y_train, X_test, y_test, model):\n",
        "\n",
        "    assert X_train.shape[0] == y_train.shape[0]\n",
        "    assert X_test.shape[0] == y_test.shape[0]\n",
        "\n",
        "    X_train = Normalizer().fit_transform(X_train)\n",
        "    X_test = Normalizer().fit_transform(X_test)\n",
        "\n",
        "    model.fit(X_train, y_train)\n",
        "    preds = model.predict(X_test)\n",
        "    f1score = metrics.f1_score(y_test, preds, average='macro') * 100\n",
        "\n",
        "    print(f'f1-score on features: {f1score} \\n')\n",
        "    return f1score"
      ],
      "execution_count": 7,
      "outputs": []
    },
    {
      "cell_type": "code",
      "metadata": {
        "id": "hr1jVpNGAAyA"
      },
      "source": [
        "def get_stratified_kfold_f1score(X_train, y_train, model):\n",
        "\n",
        "  skf = StratifiedKFold(n_splits=5)\n",
        "  f1_scores = []\n",
        "  for train_index, test_index in skf.split(X_train, y_train):\n",
        "    X_train_fold, X_test_fold = X_train[train_index], X_train[test_index]\n",
        "    y_train_fold, y_test_fold = y_train[train_index], y_train[test_index]\n",
        "\n",
        "    f1_scores.append(get_f1_score(X_train_fold, y_train_fold, X_test_fold, y_test_fold, model))\n",
        "\n",
        "  print(f'stratified kfold f1score: {np.mean(f1_scores)}')"
      ],
      "execution_count": 22,
      "outputs": []
    },
    {
      "cell_type": "code",
      "metadata": {
        "id": "I3JC-7lpifQV"
      },
      "source": [
        "def feature_sum(vec_list):\n",
        "    vec_list = np.array(vec_list)\n",
        "    vec_sum = vec_list[0]\n",
        "    try:\n",
        "        for idx in range(1, len(vec_list)):\n",
        "            vec_sum += vec_list[idx]\n",
        "    except:\n",
        "        print(vec_list)\n",
        "        exit()\n",
        "    return vec_sum.tolist()\n",
        "\n",
        "\n",
        "def mean_feature_sum(vec_list):\n",
        "    n = len(vec_list)\n",
        "    vec_list_sum = np.array(feature_sum(vec_list))\n",
        "    vec_list_sum = vec_list_sum/n\n",
        "    return vec_list_sum.tolist()"
      ],
      "execution_count": 9,
      "outputs": []
    },
    {
      "cell_type": "code",
      "metadata": {
        "id": "ZgCUWf6ai4YD"
      },
      "source": [
        "def get_svm_wordembds():\n",
        "\n",
        "    print('................ svm classifier.........')\n",
        "\n",
        "    model = svm.SVC(kernel='poly', random_state=123)\n",
        "    return model"
      ],
      "execution_count": 10,
      "outputs": []
    },
    {
      "cell_type": "code",
      "metadata": {
        "id": "-kVEc3CyirDx"
      },
      "source": [
        "def get_rfc_wordembds():\n",
        "\n",
        "    print('................ rfc classifier.........')\n",
        "\n",
        "    model = RandomForestClassifier(n_estimators=200, random_state=123)\n",
        "    return model"
      ],
      "execution_count": 11,
      "outputs": []
    },
    {
      "cell_type": "code",
      "metadata": {
        "id": "vppBNs8piuBC"
      },
      "source": [
        "def perform_classification_on_rawfeatures(X_train, y_train, X_test, y_test):\n",
        "\n",
        "    print('................ before clustering.........')\n",
        "\n",
        "    svc_model = get_svm_wordembds()\n",
        "    get_f1_score(X_train, y_train, X_test, y_test, svc_model)\n",
        "    rfc_model = get_rfc_wordembds()\n",
        "    get_f1_score(X_train, y_train, X_test, y_test, rfc_model)"
      ],
      "execution_count": 12,
      "outputs": []
    },
    {
      "cell_type": "code",
      "metadata": {
        "id": "GISxAXVah3ZH"
      },
      "source": [
        "def extract_feature_info_lstmdata(label_cnt, step_cnt, features, subject_activity_data):\n",
        "\n",
        "    X = []\n",
        "    y = []\n",
        "\n",
        "    for idx in range(label_cnt):\n",
        "        class_label = subject_activity_data[idx*step_cnt][1]\n",
        "        y.append(class_label)\n",
        "\n",
        "        lower_lim = idx*step_cnt\n",
        "        upper_lim = ((idx+1)*step_cnt)\n",
        "        temp = []\n",
        "\n",
        "        for val in range(6):\n",
        "            temp.append(mean_feature_sum(features[val,lower_lim:upper_lim,:]))\n",
        "\n",
        "        X.append(mean_feature_sum(temp))\n",
        "\n",
        "    return X, y"
      ],
      "execution_count": 13,
      "outputs": []
    },
    {
      "cell_type": "code",
      "metadata": {
        "id": "_9_crWl6oAZh"
      },
      "source": [
        "def perform_tuning_on_rawfeatures():\n",
        "\n",
        "  param_space_rfc = {\n",
        "          'criterion': hp.choice('criterion', ['gini', 'entropy']),\n",
        "          'max_depth': hp.choice('max_depth', [10, 13, 15, 17, 20]),\n",
        "          'min_samples_split': hp.choice('min_samples_split', [4,5,6]),\n",
        "          'min_samples_leaf': hp.choice('min_samples_leaf', [2, 3]),\n",
        "          'max_features': hp.choice('max_features', ['log2']),\n",
        "          'bootstrap': hp.choice('bootstrap', ['True']),\n",
        "          'n_estimators': hp.choice('n_estimators', [450, 500, 520, 550, 600])\n",
        "          }\n",
        "\n",
        "  best_model_rfc = printbest_model(param_space_rfc)\n",
        "  return best_model_rfc  "
      ],
      "execution_count": 14,
      "outputs": []
    },
    {
      "cell_type": "code",
      "metadata": {
        "id": "Ojf-WuKFhZ35"
      },
      "source": [
        "def perform_clf(features_train, features_test, subject_activity_data_train, subject_activity_data_test):\n",
        "\n",
        "    train_label_cnt = 7352\n",
        "    test_label_cnt = 2947\n",
        "    feature_dim = features_train.shape[2]\n",
        "    step_cnt = int(features_train.shape[1]/train_label_cnt)\n",
        "\n",
        "    X_train, y_train = extract_feature_info_lstmdata(train_label_cnt, step_cnt, features_train, subject_activity_data_train)\n",
        "    X_test, y_test = extract_feature_info_lstmdata(test_label_cnt, step_cnt, features_test, subject_activity_data_test)\n",
        "\n",
        "    X_train = np.array(X_train).reshape(-1,feature_dim).astype('float32')\n",
        "    y_train = np.array(y_train).astype('int32')\n",
        "    X_test = np.array(X_test).reshape(-1,feature_dim).astype('float32')\n",
        "    y_test = np.array(y_test).astype('int32')\n",
        "\n",
        "    perform_classification_on_rawfeatures(X_train, y_train, X_test, y_test)\n",
        "\n",
        "    return X_train, y_train, X_test, y_test"
      ],
      "execution_count": 15,
      "outputs": []
    },
    {
      "cell_type": "code",
      "metadata": {
        "id": "oeWYdPgMhCR8"
      },
      "source": [
        "subject_activity_data_train = np.loadtxt('/content/drive/MyDrive/lstm_data/activity_subject_data_train.csv', delimiter=',')\n",
        "sensor_features_train = np.loadtxt('/content/drive/MyDrive/lstm_data/UCIHAR_sensor_features_lstm_tuned_train.csv', delimiter=',')\n",
        "subject_activity_data_test = np.loadtxt('/content/drive/MyDrive/lstm_data/activity_subject_data_test.csv', delimiter=',')\n",
        "sensor_features_test = np.loadtxt('/content/drive/MyDrive/lstm_data/UCIHAR_sensor_features_lstm_tuned_test.csv', delimiter=',')\n",
        "\n",
        "train_channel_len = int(sensor_features_train.shape[0]/6)\n",
        "test_channel_len = int(sensor_features_test.shape[0]/6)\n",
        "feature_dim = sensor_features_train.shape[1]\n",
        "\n",
        "features_train = sensor_features_train.reshape(6, train_channel_len, feature_dim)\n",
        "features_test = sensor_features_test.reshape(6, test_channel_len, feature_dim)"
      ],
      "execution_count": 16,
      "outputs": []
    },
    {
      "cell_type": "code",
      "metadata": {
        "colab": {
          "base_uri": "https://localhost:8080/"
        },
        "id": "PT55oTxBwoN0",
        "outputId": "68fb7274-5046-46e0-92e6-98316bbb1f2a"
      },
      "source": [
        "X_train, y_train, X_test, y_test = perform_clf(features_train, features_test, subject_activity_data_train, subject_activity_data_test)"
      ],
      "execution_count": 17,
      "outputs": [
        {
          "output_type": "stream",
          "text": [
            "................ before clustering.........\n",
            "................ svm classifier.........\n",
            "f1-score on features: 80.48088742279141 \n",
            "\n",
            "................ rfc classifier.........\n",
            "f1-score on features: 79.76636250264872 \n",
            "\n"
          ],
          "name": "stdout"
        }
      ]
    },
    {
      "cell_type": "code",
      "metadata": {
        "id": "HdNktVUssx6O"
      },
      "source": [
        "#best_model_rfc = perform_tuning_on_rawfeatures()\n",
        "#best_model_rfc = RandomForestClassifier(n_estimators=450,criterion='entropy', max_depth=20, min_samples_split=6, min_samples_leaf=2, max_features='log2', bootstrap=True , n_jobs=-1, random_state=123)\n",
        "#get_f1_score(X_train, y_train, X_test, y_test, best_model_rfc)"
      ],
      "execution_count": 18,
      "outputs": []
    },
    {
      "cell_type": "code",
      "metadata": {
        "colab": {
          "base_uri": "https://localhost:8080/"
        },
        "id": "IzrMR9OQtmoJ",
        "outputId": "bd198709-e09a-49d5-dfb3-862499920c7e"
      },
      "source": [
        "#perform_classification_on_rawfeatures(X_train, y_train, X_test, y_test)\n",
        "get_stratified_kfold_f1score(X_train, y_train, get_rfc_wordembds())"
      ],
      "execution_count": 23,
      "outputs": [
        {
          "output_type": "stream",
          "text": [
            "................ rfc classifier.........\n",
            "f1-score on features: 81.61649053489421 \n",
            "\n",
            "f1-score on features: 77.61973781692694 \n",
            "\n",
            "f1-score on features: 76.83806000795195 \n",
            "\n",
            "f1-score on features: 76.91039285161033 \n",
            "\n",
            "f1-score on features: 80.77099093977664 \n",
            "\n",
            "stratified kfold f1score: 78.75113443023201\n"
          ],
          "name": "stdout"
        }
      ]
    }
  ]
}